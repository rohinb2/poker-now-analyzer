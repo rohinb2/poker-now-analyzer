{
 "cells": [
  {
   "cell_type": "code",
   "execution_count": 1,
   "id": "e7776128",
   "metadata": {},
   "outputs": [],
   "source": [
    "from parser import Parser\n",
    "from data_model import Decision"
   ]
  },
  {
   "cell_type": "code",
   "execution_count": 2,
   "id": "3e8135d8",
   "metadata": {},
   "outputs": [
    {
     "name": "stderr",
     "output_type": "stream",
     "text": [
      "Unexpected line found in log: 'The admin \"Rohin @ XvJLPhsF1B\" enqueued the game stop on next hand.'. Likely the log format has changed and this script needs to be updated.\n"
     ]
    }
   ],
   "source": [
    "p = Parser()\n",
    "g = p.parse('hundred-may-24.csv')"
   ]
  },
  {
   "cell_type": "code",
   "execution_count": 3,
   "id": "0361ea8e",
   "metadata": {},
   "outputs": [],
   "source": [
    "me = \"Rohin @ XvJLPhsF1B\"\n",
    "aaron = \"Aaron @ y7ASsOMrSz\""
   ]
  },
  {
   "cell_type": "code",
   "execution_count": 4,
   "id": "113e855e",
   "metadata": {},
   "outputs": [],
   "source": [
    "def filter_by_pot_size(hands, pot_size):\n",
    "    return [h for h in hands if h.final_hand_value >= pot_size]\n",
    "\n",
    "def filter_by_player(hands, player):\n",
    "    return [h for h in hands if h.contains_player(player)]\n",
    "\n",
    "def filter_by_num_raises_pre(hands, num_raises):\n",
    "    res = []\n",
    "    for h in hands:\n",
    "        raises = 0\n",
    "        for action in h.streets[0].actions:\n",
    "            if action.decision == Decision.RAISE:\n",
    "                raises += 1\n",
    "        if raises == num_raises:\n",
    "            res.append(h)\n",
    "    return res\n",
    "\n",
    "def filter_by_player_vpip(hands, player):\n",
    "    return [h for h in hands if h.player_vpip(player)]\n",
    "\n",
    "def filter_by_player_pfr(hands, player):\n",
    "    return [h for h in hands if h.player_pfr(player)]"
   ]
  },
  {
   "cell_type": "code",
   "execution_count": 5,
   "id": "f76654ec",
   "metadata": {},
   "outputs": [
    {
     "name": "stdout",
     "output_type": "stream",
     "text": [
      "12\n"
     ]
    }
   ],
   "source": [
    "fourbet_pots = filter_by_num_raises_pre(g.hands, 3)\n",
    "print(len(fourbet_pots))"
   ]
  },
  {
   "cell_type": "code",
   "execution_count": 7,
   "id": "8adc1e30",
   "metadata": {},
   "outputs": [
    {
     "name": "stdout",
     "output_type": "stream",
     "text": [
      "1\n"
     ]
    }
   ],
   "source": [
    "fivebet_pots = filter_by_num_raises_pre(g.hands, 4)\n",
    "print(len(fivebet_pots))"
   ]
  },
  {
   "cell_type": "code",
   "execution_count": null,
   "id": "d4b70cdd",
   "metadata": {},
   "outputs": [],
   "source": [
    "my_vpip = filter_by_player_vpip(g.hands, me)\n",
    "print(len(my_vpip))"
   ]
  },
  {
   "cell_type": "code",
   "execution_count": null,
   "id": "561f6b12",
   "metadata": {},
   "outputs": [],
   "source": [
    "my_pfr = filter_by_player_pfr(g.hands, me)\n",
    "print(len(my_pfr))"
   ]
  },
  {
   "cell_type": "code",
   "execution_count": null,
   "id": "91b90535",
   "metadata": {},
   "outputs": [],
   "source": [
    "for h in my_pfr:\n",
    "    print(h)"
   ]
  },
  {
   "cell_type": "code",
   "execution_count": null,
   "id": "7702be0b",
   "metadata": {},
   "outputs": [],
   "source": [
    "aaron_vpip = filter_by_player_vpip(g.hands, aaron)\n",
    "print(len(aaron_vpip))"
   ]
  },
  {
   "cell_type": "code",
   "execution_count": 8,
   "id": "b6f9f25b",
   "metadata": {},
   "outputs": [
    {
     "name": "stdout",
     "output_type": "stream",
     "text": [
      "The players start the hand 53 with stacks at time 2022-05-29 12:34:56.167843: \n",
      "Tejas @ fL-Db4CSS- : 244.59\n",
      "jab @ 8-lIbtzIEz : 197.0\n",
      "tommy @ I1ALMxgWnb : 214.79\n",
      "clay @ ogLmS8GEIu : 166.12\n",
      "annie @ QtThvm1cyo : 116.0\n",
      "Aaron @ y7ASsOMrSz : 179.85\n",
      "Rohin @ XvJLPhsF1B : 222.65\n",
      "glenna @ ygT7PyU3wQ : 189.52\n",
      "Syon @ CKjIWJVeYU : 265.7\n",
      "Ophir @ IqNv0P9XU9 : 183.78\n",
      "\n",
      "StreetType.PREFLOP\n",
      "Community cards are [].\n",
      "Player: annie @ QtThvm1cyo took action Decision.SMALL_BLIND for amount 0.25.\n",
      "Player: Aaron @ y7ASsOMrSz took action Decision.BIG_BLIND for amount 0.5.\n",
      "Player: Rohin @ XvJLPhsF1B took action Decision.STRADDLE for amount 1.0.\n",
      "Player: glenna @ ygT7PyU3wQ took action Decision.FOLD.\n",
      "Player: Syon @ CKjIWJVeYU took action Decision.RAISE for amount 3.0.\n",
      "Player: Ophir @ IqNv0P9XU9 took action Decision.FOLD.\n",
      "Player: Tejas @ fL-Db4CSS- took action Decision.RAISE for amount 12.0.\n",
      "Player: jab @ 8-lIbtzIEz took action Decision.FOLD.\n",
      "Player: tommy @ I1ALMxgWnb took action Decision.FOLD.\n",
      "Player: clay @ ogLmS8GEIu took action Decision.RAISE for amount 40.75.\n",
      "Player: annie @ QtThvm1cyo took action Decision.FOLD.\n",
      "Player: Aaron @ y7ASsOMrSz took action Decision.FOLD.\n",
      "Player: Rohin @ XvJLPhsF1B took action Decision.FOLD.\n",
      "Player: Syon @ CKjIWJVeYU took action Decision.FOLD.\n",
      "Player: Tejas @ fL-Db4CSS- took action Decision.RAISE for amount 166.12.\n",
      "Player: clay @ ogLmS8GEIu took action Decision.CALL for amount 166.12.\n",
      "Final pot value for this street is: 336.99.\n",
      "\n",
      "StreetType.FLOP\n",
      "Community cards are ['5♠', 'K♦', 'K♣'].\n",
      "Final pot value for this street is: 336.99.\n",
      "\n",
      "StreetType.TURN\n",
      "Community cards are ['5♠', 'K♦', 'K♣', 'Q♣'].\n",
      "Final pot value for this street is: 336.99.\n",
      "\n",
      "StreetType.RIVER\n",
      "Community cards are ['5♠', 'K♦', 'K♣', 'Q♣', '9♣'].\n",
      "Final pot value for this street is: 336.99.\n",
      "\n",
      "The winners of the hand are as follows: \n",
      "Tejas @ fL-Db4CSS- wins 336.99 with combination 336.99.\n",
      "\n",
      "Players showed hands of: \n",
      "Tejas @ fL-Db4CSS- shows ['K♥', 'K♠'].\n",
      "clay @ ogLmS8GEIu shows ['A♦', 'A♣'].\n"
     ]
    }
   ],
   "source": [
    "for h in fivebet_pots:\n",
    "    print(h)"
   ]
  },
  {
   "cell_type": "code",
   "execution_count": null,
   "id": "ec7e9a17",
   "metadata": {},
   "outputs": [],
   "source": []
  }
 ],
 "metadata": {
  "kernelspec": {
   "display_name": "Python 3 (ipykernel)",
   "language": "python",
   "name": "python3"
  },
  "language_info": {
   "codemirror_mode": {
    "name": "ipython",
    "version": 3
   },
   "file_extension": ".py",
   "mimetype": "text/x-python",
   "name": "python",
   "nbconvert_exporter": "python",
   "pygments_lexer": "ipython3",
   "version": "3.8.6"
  }
 },
 "nbformat": 4,
 "nbformat_minor": 5
}
